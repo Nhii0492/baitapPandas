{
 "cells": [
  {
   "cell_type": "code",
   "execution_count": 1,
   "id": "2799c60c",
   "metadata": {},
   "outputs": [],
   "source": [
    "import pandas as pd"
   ]
  },
  {
   "cell_type": "code",
   "execution_count": 5,
   "id": "900b6dd7",
   "metadata": {},
   "outputs": [
    {
     "data": {
      "text/html": [
       "<div>\n",
       "<style scoped>\n",
       "    .dataframe tbody tr th:only-of-type {\n",
       "        vertical-align: middle;\n",
       "    }\n",
       "\n",
       "    .dataframe tbody tr th {\n",
       "        vertical-align: top;\n",
       "    }\n",
       "\n",
       "    .dataframe thead th {\n",
       "        text-align: right;\n",
       "    }\n",
       "</style>\n",
       "<table border=\"1\" class=\"dataframe\">\n",
       "  <thead>\n",
       "    <tr style=\"text-align: right;\">\n",
       "      <th></th>\n",
       "      <th>Country</th>\n",
       "      <th>Continent</th>\n",
       "      <th>GDP (millions of US$)</th>\n",
       "    </tr>\n",
       "  </thead>\n",
       "  <tbody>\n",
       "    <tr>\n",
       "      <th>0</th>\n",
       "      <td>Afghanistan</td>\n",
       "      <td>Asia</td>\n",
       "      <td>18181</td>\n",
       "    </tr>\n",
       "    <tr>\n",
       "      <th>1</th>\n",
       "      <td>Albania</td>\n",
       "      <td>Europe</td>\n",
       "      <td>12847</td>\n",
       "    </tr>\n",
       "    <tr>\n",
       "      <th>2</th>\n",
       "      <td>Algeria</td>\n",
       "      <td>Africa</td>\n",
       "      <td>190709</td>\n",
       "    </tr>\n",
       "    <tr>\n",
       "      <th>3</th>\n",
       "      <td>Angola</td>\n",
       "      <td>Africa</td>\n",
       "      <td>100948</td>\n",
       "    </tr>\n",
       "    <tr>\n",
       "      <th>4</th>\n",
       "      <td>Argentina</td>\n",
       "      <td>South America</td>\n",
       "      <td>447644</td>\n",
       "    </tr>\n",
       "  </tbody>\n",
       "</table>\n",
       "</div>"
      ],
      "text/plain": [
       "        Country      Continent  GDP (millions of US$)\n",
       "0   Afghanistan           Asia                  18181\n",
       "1       Albania         Europe                  12847\n",
       "2       Algeria         Africa                 190709\n",
       "3        Angola         Africa                 100948\n",
       "4     Argentina  South America                 447644"
      ]
     },
     "execution_count": 5,
     "metadata": {},
     "output_type": "execute_result"
    }
   ],
   "source": [
    "df=pd.read_csv('/Users/nguyennhi/baitapPandas/data/GDPlist.csv',encoding= 'unicode_escape')\n",
    "df.head()"
   ]
  },
  {
   "cell_type": "code",
   "execution_count": 7,
   "id": "64816579",
   "metadata": {},
   "outputs": [
    {
     "data": {
      "text/plain": [
       "(125, 3)"
      ]
     },
     "execution_count": 7,
     "metadata": {},
     "output_type": "execute_result"
    }
   ],
   "source": [
    "#shape\n",
    "df.shape"
   ]
  },
  {
   "cell_type": "code",
   "execution_count": 8,
   "id": "bbd7b107",
   "metadata": {},
   "outputs": [
    {
     "data": {
      "text/plain": [
       "3"
      ]
     },
     "execution_count": 8,
     "metadata": {},
     "output_type": "execute_result"
    }
   ],
   "source": [
    "#num cols\n",
    "df.shape[1]"
   ]
  },
  {
   "cell_type": "code",
   "execution_count": 9,
   "id": "adf188f4",
   "metadata": {},
   "outputs": [
    {
     "data": {
      "text/plain": [
       "125"
      ]
     },
     "execution_count": 9,
     "metadata": {},
     "output_type": "execute_result"
    }
   ],
   "source": [
    "#num rows\n",
    "df.shape[0]"
   ]
  },
  {
   "cell_type": "code",
   "execution_count": 47,
   "id": "827254db",
   "metadata": {},
   "outputs": [
    {
     "data": {
      "text/html": [
       "<div>\n",
       "<style scoped>\n",
       "    .dataframe tbody tr th:only-of-type {\n",
       "        vertical-align: middle;\n",
       "    }\n",
       "\n",
       "    .dataframe tbody tr th {\n",
       "        vertical-align: top;\n",
       "    }\n",
       "\n",
       "    .dataframe thead th {\n",
       "        text-align: right;\n",
       "    }\n",
       "</style>\n",
       "<table border=\"1\" class=\"dataframe\">\n",
       "  <thead>\n",
       "    <tr style=\"text-align: right;\">\n",
       "      <th></th>\n",
       "      <th>Nuoc</th>\n",
       "      <th>Chauluc</th>\n",
       "      <th>GDP (trieu$)</th>\n",
       "    </tr>\n",
       "  </thead>\n",
       "  <tbody>\n",
       "    <tr>\n",
       "      <th>0</th>\n",
       "      <td>Afghanistan</td>\n",
       "      <td>Asia</td>\n",
       "      <td>18181</td>\n",
       "    </tr>\n",
       "    <tr>\n",
       "      <th>1</th>\n",
       "      <td>Albania</td>\n",
       "      <td>Europe</td>\n",
       "      <td>12847</td>\n",
       "    </tr>\n",
       "    <tr>\n",
       "      <th>2</th>\n",
       "      <td>Algeria</td>\n",
       "      <td>Africa</td>\n",
       "      <td>190709</td>\n",
       "    </tr>\n",
       "    <tr>\n",
       "      <th>3</th>\n",
       "      <td>Angola</td>\n",
       "      <td>Africa</td>\n",
       "      <td>100948</td>\n",
       "    </tr>\n",
       "    <tr>\n",
       "      <th>4</th>\n",
       "      <td>Argentina</td>\n",
       "      <td>South America</td>\n",
       "      <td>447644</td>\n",
       "    </tr>\n",
       "  </tbody>\n",
       "</table>\n",
       "</div>"
      ],
      "text/plain": [
       "           Nuoc        Chauluc  GDP (trieu$)\n",
       "0   Afghanistan           Asia         18181\n",
       "1       Albania         Europe         12847\n",
       "2       Algeria         Africa        190709\n",
       "3        Angola         Africa        100948\n",
       "4     Argentina  South America        447644"
      ]
     },
     "execution_count": 47,
     "metadata": {},
     "output_type": "execute_result"
    }
   ],
   "source": [
    "#rename\n",
    "df=df.rename(columns={'Country':'Nuoc','Continent':'Chauluc','GDP (millions of US$)':'GDP (trieu$)'})\n",
    "df.head()"
   ]
  },
  {
   "cell_type": "code",
   "execution_count": 48,
   "id": "9ec4bc58",
   "metadata": {},
   "outputs": [
    {
     "data": {
      "text/html": [
       "<div>\n",
       "<style scoped>\n",
       "    .dataframe tbody tr th:only-of-type {\n",
       "        vertical-align: middle;\n",
       "    }\n",
       "\n",
       "    .dataframe tbody tr th {\n",
       "        vertical-align: top;\n",
       "    }\n",
       "\n",
       "    .dataframe thead th {\n",
       "        text-align: right;\n",
       "    }\n",
       "</style>\n",
       "<table border=\"1\" class=\"dataframe\">\n",
       "  <thead>\n",
       "    <tr style=\"text-align: right;\">\n",
       "      <th></th>\n",
       "      <th>Nuoc</th>\n",
       "      <th>Thanhpho</th>\n",
       "      <th>Chauluc</th>\n",
       "      <th>GDP (trieu$)</th>\n",
       "    </tr>\n",
       "  </thead>\n",
       "  <tbody>\n",
       "    <tr>\n",
       "      <th>0</th>\n",
       "      <td>Afghanistan</td>\n",
       "      <td>Afghanistan</td>\n",
       "      <td>Asia</td>\n",
       "      <td>18181</td>\n",
       "    </tr>\n",
       "    <tr>\n",
       "      <th>1</th>\n",
       "      <td>Albania</td>\n",
       "      <td>Albania</td>\n",
       "      <td>Europe</td>\n",
       "      <td>12847</td>\n",
       "    </tr>\n",
       "    <tr>\n",
       "      <th>2</th>\n",
       "      <td>Algeria</td>\n",
       "      <td>Algeria</td>\n",
       "      <td>Africa</td>\n",
       "      <td>190709</td>\n",
       "    </tr>\n",
       "    <tr>\n",
       "      <th>3</th>\n",
       "      <td>Angola</td>\n",
       "      <td>Angola</td>\n",
       "      <td>Africa</td>\n",
       "      <td>100948</td>\n",
       "    </tr>\n",
       "    <tr>\n",
       "      <th>4</th>\n",
       "      <td>Argentina</td>\n",
       "      <td>Argentina</td>\n",
       "      <td>South America</td>\n",
       "      <td>447644</td>\n",
       "    </tr>\n",
       "  </tbody>\n",
       "</table>\n",
       "</div>"
      ],
      "text/plain": [
       "           Nuoc      Thanhpho        Chauluc  GDP (trieu$)\n",
       "0   Afghanistan   Afghanistan           Asia         18181\n",
       "1       Albania       Albania         Europe         12847\n",
       "2       Algeria       Algeria         Africa        190709\n",
       "3        Angola        Angola         Africa        100948\n",
       "4     Argentina     Argentina  South America        447644"
      ]
     },
     "execution_count": 48,
     "metadata": {},
     "output_type": "execute_result"
    }
   ],
   "source": [
    "df.insert(df.columns.get_loc('Nuoc') + 1, 'Thanhpho', rn['Nuoc'])\n",
    "df.head()"
   ]
  },
  {
   "cell_type": "code",
   "execution_count": 53,
   "id": "45bdb7bf",
   "metadata": {},
   "outputs": [
    {
     "name": "stdout",
     "output_type": "stream",
     "text": [
      "             Nuoc     Thanhpho        Chauluc  GDP (trieu$)\n",
      "0     Afghanistan  Afghanistan           Asia         18181\n",
      "1         Albania      Albania         Europe         12847\n",
      "2         Algeria      Algeria         Africa        190709\n",
      "3          Angola       Angola         Africa        100948\n",
      "4       Argentina    Argentina  South America        447644\n",
      "..            ...          ...            ...           ...\n",
      "120    Uzbekistan   Uzbekistan           Asia         45353\n",
      "121     Venezuela    Venezuela  South America        315841\n",
      "122       Vietnam        Hanoi           Asia        122722\n",
      "123         Yemen        Yemen         Africa         33675\n",
      "124        Zambia       Zambia         Africa         19206\n",
      "\n",
      "[125 rows x 4 columns]\n"
     ]
    }
   ],
   "source": [
    "df['Thanhpho'] = df['Thanhpho'].str.strip().replace('Vietnam', 'Hanoi')\n",
    "\n",
    "print(df)"
   ]
  },
  {
   "cell_type": "code",
   "execution_count": 57,
   "id": "5a030c9b",
   "metadata": {},
   "outputs": [
    {
     "name": "stdout",
     "output_type": "stream",
     "text": [
      "               Nuoc       Thanhpho        Chauluc  GDP (trieu$)\n",
      "1           Albania        Albania         Europe         12847\n",
      "2           Algeria        Algeria         Africa        190709\n",
      "3            Angola         Angola         Africa        100948\n",
      "4         Argentina      Argentina  South America        447644\n",
      "5         Australia      Australia        Oceania       1488221\n",
      "..              ...            ...            ...           ...\n",
      "118   United States  United States  North America      15094025\n",
      "119         Uruguay        Uruguay  South America         46872\n",
      "121       Venezuela      Venezuela  South America        315841\n",
      "123           Yemen          Yemen         Africa         33675\n",
      "124          Zambia         Zambia         Africa         19206\n",
      "\n",
      "[89 rows x 4 columns]\n"
     ]
    }
   ],
   "source": [
    "df1 = df.loc[df['Chauluc'] != 'Asia']\n",
    "print(df1)"
   ]
  },
  {
   "cell_type": "code",
   "execution_count": 60,
   "id": "a555021c",
   "metadata": {},
   "outputs": [
    {
     "name": "stdout",
     "output_type": "stream",
     "text": [
      "                      Nuoc              Thanhpho        Chauluc  GDP (trieu$)\n",
      "46                  Greece                Greece         Europe        303065\n",
      "121              Venezuela             Venezuela  South America        315841\n",
      "24                Colombia              Colombia  South America        328422\n",
      "32                 Denmark               Denmark         Europe        333238\n",
      "109               Thailand              Thailand           Asia        345649\n",
      "116   United Arab Emirates  United Arab Emirates           Asia        360136\n",
      "100           South Africa          South Africa         Africa        408074\n",
      "6                  Austria               Austria         Europe        419243\n",
      "4                Argentina             Argentina  South America        447644\n",
      "107                 Taiwan                Taiwan           Asia        466832\n",
      "54                    Iran                  Iran           Asia        482445\n",
      "81                  Norway                Norway         Europe        483650\n",
      "11                 Belgium               Belgium         Europe        513396\n",
      "89                  Poland                Poland         Europe        513821\n",
      "105                 Sweden                Sweden         Europe        538237\n",
      "94            Saudi Arabia          Saudi Arabia           Asia        577595\n",
      "106            Switzerland           Switzerland         Europe        636059\n",
      "112                 Turkey                Turkey           Asia        778089\n",
      "78             Netherlands           Netherlands         Europe        840433\n",
      "53               Indonesia             Indonesia           Asia        845680\n",
      "101            South Korea           South Korea           Asia       1116247\n",
      "73                  Mexico                Mexico  North America       1154784\n",
      "5                Australia             Australia        Oceania       1488221\n",
      "102                  Spain                 Spain         Europe       1493513\n",
      "52                   India                 India           Asia       1676143\n",
      "21                  Canada                Canada  North America       1736869\n",
      "93                  Russia                Russia           Asia       1850401\n",
      "58                   Italy                 Italy         Europe       2198730\n",
      "117         United Kingdom        United Kingdom         Europe       2417570\n",
      "15                  Brazil                Brazil  South America       2492908\n",
      "41                  France                France         Europe       2776324\n",
      "44                 Germany               Germany         Europe       3577031\n",
      "60                   Japan                 Japan           Asia       5869471\n",
      "23                   China                 China           Asia       7298147\n",
      "118          United States         United States  North America      15094025\n"
     ]
    }
   ],
   "source": [
    "df2= df.loc[df['GDP (trieu$)'] > 300000]\n",
    "df2_sorted=df2.sort_values(by='GDP (trieu$)',ascending=True)\n",
    "print(df2_sorted)"
   ]
  },
  {
   "cell_type": "code",
   "execution_count": null,
   "id": "79b59650",
   "metadata": {},
   "outputs": [],
   "source": []
  },
  {
   "cell_type": "code",
   "execution_count": null,
   "id": "f8887375",
   "metadata": {},
   "outputs": [],
   "source": []
  }
 ],
 "metadata": {
  "kernelspec": {
   "display_name": "Python 3 (ipykernel)",
   "language": "python",
   "name": "python3"
  },
  "language_info": {
   "codemirror_mode": {
    "name": "ipython",
    "version": 3
   },
   "file_extension": ".py",
   "mimetype": "text/x-python",
   "name": "python",
   "nbconvert_exporter": "python",
   "pygments_lexer": "ipython3",
   "version": "3.10.9"
  }
 },
 "nbformat": 4,
 "nbformat_minor": 5
}
